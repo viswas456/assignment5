{
 "cells": [
  {
   "cell_type": "code",
   "execution_count": 1,
   "metadata": {},
   "outputs": [],
   "source": [
    "#1. What does an empty dictionary&#39;s code look like?\n",
    "dictonary = {}\n"
   ]
  },
  {
   "cell_type": "code",
   "execution_count": 2,
   "metadata": {},
   "outputs": [],
   "source": [
    "#2. What is the value of a dictionary value with the key foo; and the value 42?\n",
    "dic = {\"foo\":42}"
   ]
  },
  {
   "cell_type": "code",
   "execution_count": 4,
   "metadata": {},
   "outputs": [
    {
     "data": {
      "text/plain": [
       "dict_values([42])"
      ]
     },
     "execution_count": 4,
     "metadata": {},
     "output_type": "execute_result"
    }
   ],
   "source": [
    "dic.values()"
   ]
  },
  {
   "cell_type": "code",
   "execution_count": 5,
   "metadata": {},
   "outputs": [
    {
     "name": "stdout",
     "output_type": "stream",
     "text": [
      "the most significance distinction between dictionary and list are ,dictionary cant perform slicing while list can\n"
     ]
    }
   ],
   "source": [
    "#3. What is the most significant distinction between a dictionary and a list?\n",
    "print(\"the most significance distinction between dictionary and list are ,dictionary cant perform slicing while list can\")\n"
   ]
  },
  {
   "cell_type": "code",
   "execution_count": 8,
   "metadata": {},
   "outputs": [
    {
     "name": "stdout",
     "output_type": "stream",
     "text": [
      "foo is not declared\n"
     ]
    }
   ],
   "source": [
    "#4. What happens if you try to access spam[foo] if spam is {bar: 100}?\n",
    "spam = {\"bar\":100}\n",
    "try:\n",
    "    \n",
    "    spam[\"foo\"]\n",
    "except:\n",
    "    print(\"foo is not declared\")"
   ]
  },
  {
   "cell_type": "code",
   "execution_count": 10,
   "metadata": {},
   "outputs": [
    {
     "name": "stdout",
     "output_type": "stream",
     "text": [
      "run\n"
     ]
    },
    {
     "data": {
      "text/plain": [
       "dict_keys(['cat', 'mouse', 'donkey'])"
      ]
     },
     "execution_count": 10,
     "metadata": {},
     "output_type": "execute_result"
    }
   ],
   "source": [
    "#5. If a dictionary is stored in spam, what is the difference between the expressions ;cat in spam and\n",
    "#cat in spam.keys()?\n",
    "spam = {\"cat\":\"run\",\"mouse\":\"eat\",\"donkey\":\"take weights\"}\n",
    "print(spam[\"cat\"])\n",
    "spam.keys()"
   ]
  },
  {
   "cell_type": "code",
   "execution_count": 11,
   "metadata": {},
   "outputs": [
    {
     "name": "stdout",
     "output_type": "stream",
     "text": [
      "cat in dict.keys() returns the key along with other keys\n"
     ]
    }
   ],
   "source": [
    "print(\"cat in dict.keys() returns the key along with other keys\")\n"
   ]
  },
  {
   "cell_type": "code",
   "execution_count": 12,
   "metadata": {},
   "outputs": [
    {
     "name": "stdout",
     "output_type": "stream",
     "text": [
      "cat in spam checks wheteher there is a cat key in the distionary.while cat in spam.values() whether there is a value cat for\n",
      "one of keys in spam\n"
     ]
    }
   ],
   "source": [
    "#6. If a dictionary is stored in spam, what is the difference between the expressions cat in spam and\n",
    "#;cat in spam.values()?\n",
    "print(\"\"\"cat in spam checks wheteher there is a cat key in the distionary.while cat in spam.values() whether there is a value cat for\n",
    "one of keys in spam\"\"\")"
   ]
  },
  {
   "cell_type": "code",
   "execution_count": 20,
   "metadata": {},
   "outputs": [
    {
     "data": {
      "text/plain": [
       "True"
      ]
     },
     "execution_count": 20,
     "metadata": {},
     "output_type": "execute_result"
    }
   ],
   "source": [
    "#7. What is a shortcut for the following code?\n",
    "#ifcolor not in spam:\n",
    "#spam[color] = black\n",
    "spam = {\"xy\":\"xy\",\"sai\":\"name\"}\n",
    "\"color\" not in spam"
   ]
  },
  {
   "cell_type": "code",
   "execution_count": 21,
   "metadata": {},
   "outputs": [],
   "source": [
    "spam[\"apple\"]=\"red\""
   ]
  },
  {
   "cell_type": "code",
   "execution_count": 22,
   "metadata": {},
   "outputs": [
    {
     "name": "stdout",
     "output_type": "stream",
     "text": [
      "{'xy': 'xy', 'sai': 'name', 'apple': 'red'}\n"
     ]
    }
   ],
   "source": [
    "print(spam)"
   ]
  },
  {
   "cell_type": "code",
   "execution_count": 23,
   "metadata": {},
   "outputs": [
    {
     "data": {
      "text/plain": [
       "'black'"
      ]
     },
     "execution_count": 23,
     "metadata": {},
     "output_type": "execute_result"
    }
   ],
   "source": [
    "spam.setdefault('color','black')\n",
    "#8. How do you pretty print dictionary values using which module and function?"
   ]
  },
  {
   "cell_type": "code",
   "execution_count": 24,
   "metadata": {},
   "outputs": [
    {
     "name": "stdout",
     "output_type": "stream",
     "text": [
      "print using print function {'name': 'sai', 'god': 'exists', 'universe': 'createdbygod'}\n",
      "{'god': 'exists', 'name': 'sai', 'universe': 'createdbygod'}\n",
      "{\n",
      "    \"name\": \"sai\",\n",
      "    \"god\": \"exists\",\n",
      "    \"universe\": \"createdbygod\"\n",
      "}\n"
     ]
    }
   ],
   "source": [
    "ndict = {'name':\"sai\",\"god\":\"exists\",\"universe\":\"createdbygod\"}\n",
    "print(\"print using print function\",ndict)\n",
    "import pprint\n",
    "pprint.pprint(ndict)\n",
    "import json\n",
    "dump = json.dumps(ndict,indent=4)\n",
    "print(dump)"
   ]
  },
  {
   "cell_type": "code",
   "execution_count": null,
   "metadata": {},
   "outputs": [],
   "source": []
  }
 ],
 "metadata": {
  "kernelspec": {
   "display_name": "Python 3",
   "language": "python",
   "name": "python3"
  },
  "language_info": {
   "codemirror_mode": {
    "name": "ipython",
    "version": 3
   },
   "file_extension": ".py",
   "mimetype": "text/x-python",
   "name": "python",
   "nbconvert_exporter": "python",
   "pygments_lexer": "ipython3",
   "version": "3.7.6"
  }
 },
 "nbformat": 4,
 "nbformat_minor": 4
}
